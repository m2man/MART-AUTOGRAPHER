{
 "cells": [
  {
   "cell_type": "code",
   "execution_count": 1,
   "metadata": {},
   "outputs": [],
   "source": [
    "from mart_controller import MART_Evaluator\n",
    "from PIL import Image\n",
    "import numpy as np\n",
    "import pandas as pd\n",
    "import os\n",
    "from tqdm import tqdm\n",
    "import joblib"
   ]
  },
  {
   "cell_type": "code",
   "execution_count": 2,
   "metadata": {},
   "outputs": [
    {
     "name": "stdout",
     "output_type": "stream",
     "text": [
      "Loaded pretrained weights for efficientnet-b4\n",
      "LOAD PRETRAINED MODEL AT RUN_0_Unfreeze/EFFICIENT-B4-18082020-020739.pth.tar\n"
     ]
    }
   ],
   "source": [
    "IMG_DIR = '/mnt/sda/hong01-data/MART_DATA/OUTPUT_MERGED/AUTOGRAPHER'\n",
    "PANDAS_DIR = '/mnt/sda/hong01-data/MART_DATA/OUTPUT_MERGED/PANDAS'\n",
    "\n",
    "MODEL_NAME = 'EFFICIENT-B4'\n",
    "CROP_SIZE = 224\n",
    "CHECKPOINT = 'RUN_0_Unfreeze/EFFICIENT-B4-18082020-020739.pth.tar'\n",
    "HIDDEN_SIZE = 1024\n",
    "BATCH_NORM = False\n",
    "    \n",
    "model_info = {}\n",
    "model_info['model_name'] = MODEL_NAME\n",
    "model_info['crop_size'] = CROP_SIZE\n",
    "model_info['checkpoint'] = CHECKPOINT\n",
    "model_info['hidden_size'] = HIDDEN_SIZE\n",
    "model_info['batch_norm'] = BATCH_NORM\n",
    "\n",
    "evaluator = MART_Evaluator(model_info)\n",
    "\n",
    "all_img_files = sorted(os.listdir(IMG_DIR))"
   ]
  },
  {
   "cell_type": "markdown",
   "metadata": {},
   "source": [
    "## TRY THE CODE"
   ]
  },
  {
   "cell_type": "code",
   "execution_count": 24,
   "metadata": {},
   "outputs": [
    {
     "data": {
      "text/plain": [
       "(0.8546260260045528, 0.9017341040462428)"
      ]
     },
     "execution_count": 24,
     "metadata": {},
     "output_type": "execute_result"
    }
   ],
   "source": [
    "TXT_FILE = 'dataset/val.txt'\n",
    "\n",
    "loss, acc = evaluator.evaluate(IMG_DIR, TXT_FILE)\n",
    "(loss, acc)"
   ]
  },
  {
   "cell_type": "code",
   "execution_count": 25,
   "metadata": {},
   "outputs": [],
   "source": [
    "img_path = f\"{IMG_DIR}/1005_trainB_act17_4.jpg\"\n",
    "pred_lbl, probs_lbl = evaluator.test_image(img_path, props=True) # remember act = label+1"
   ]
  },
  {
   "cell_type": "code",
   "execution_count": 26,
   "metadata": {},
   "outputs": [
    {
     "data": {
      "text/plain": [
       "16"
      ]
     },
     "execution_count": 26,
     "metadata": {},
     "output_type": "execute_result"
    }
   ],
   "source": [
    "pred_lbl"
   ]
  },
  {
   "cell_type": "code",
   "execution_count": 27,
   "metadata": {},
   "outputs": [
    {
     "data": {
      "text/plain": [
       "array([2.1052938e-07, 3.3188870e-05, 8.3061364e-05, 1.2945433e-06,\n",
       "       8.5043384e-06, 5.5669909e-07, 2.3099426e-05, 1.2240148e-06,\n",
       "       3.4870263e-06, 6.4895437e-07, 5.6167302e-04, 2.2210679e-06,\n",
       "       1.0234877e-01, 6.5412465e-04, 1.4623778e-05, 7.7470195e-06,\n",
       "       8.5550719e-01, 3.9434277e-02, 9.8404140e-05, 1.2157230e-03],\n",
       "      dtype=float32)"
      ]
     },
     "execution_count": 27,
     "metadata": {},
     "output_type": "execute_result"
    }
   ],
   "source": [
    "probs_lbl"
   ]
  },
  {
   "cell_type": "code",
   "execution_count": 28,
   "metadata": {},
   "outputs": [],
   "source": [
    "ranking_lbl = np.argsort(probs_lbl)[::-1] # descending\n",
    "ranking_score = probs_lbl[ranking_lbl]"
   ]
  },
  {
   "cell_type": "code",
   "execution_count": 18,
   "metadata": {},
   "outputs": [
    {
     "data": {
      "text/plain": [
       "array([16, 12, 17, 19, 13, 10, 18,  2,  1,  6, 14,  4, 15,  8, 11,  3,  7,\n",
       "        9,  5,  0])"
      ]
     },
     "execution_count": 18,
     "metadata": {},
     "output_type": "execute_result"
    }
   ],
   "source": [
    "ranking_lbl"
   ]
  },
  {
   "cell_type": "code",
   "execution_count": 19,
   "metadata": {},
   "outputs": [
    {
     "data": {
      "text/plain": [
       "array([8.5550719e-01, 1.0234877e-01, 3.9434277e-02, 1.2157230e-03,\n",
       "       6.5412465e-04, 5.6167302e-04, 9.8404140e-05, 8.3061364e-05,\n",
       "       3.3188870e-05, 2.3099426e-05, 1.4623778e-05, 8.5043384e-06,\n",
       "       7.7470195e-06, 3.4870263e-06, 2.2210679e-06, 1.2945433e-06,\n",
       "       1.2240148e-06, 6.4895437e-07, 5.5669909e-07, 2.1052938e-07],\n",
       "      dtype=float32)"
      ]
     },
     "execution_count": 19,
     "metadata": {},
     "output_type": "execute_result"
    }
   ],
   "source": [
    "ranking_score"
   ]
  },
  {
   "cell_type": "code",
   "execution_count": 29,
   "metadata": {},
   "outputs": [
    {
     "data": {
      "text/plain": [
       "(20,)"
      ]
     },
     "execution_count": 29,
     "metadata": {},
     "output_type": "execute_result"
    }
   ],
   "source": [
    "probs_lbl.shape"
   ]
  },
  {
   "cell_type": "markdown",
   "metadata": {},
   "source": [
    "## MAKE THE PREDICTION "
   ]
  },
  {
   "cell_type": "code",
   "execution_count": 7,
   "metadata": {},
   "outputs": [],
   "source": [
    "dataset = 'trainA' # trainA, trainB, test\n",
    "data = pd.read_csv(f\"{PANDAS_DIR}/{dataset}.csv\")"
   ]
  },
  {
   "cell_type": "code",
   "execution_count": 8,
   "metadata": {},
   "outputs": [
    {
     "data": {
      "text/html": [
       "<div>\n",
       "<style scoped>\n",
       "    .dataframe tbody tr th:only-of-type {\n",
       "        vertical-align: middle;\n",
       "    }\n",
       "\n",
       "    .dataframe tbody tr th {\n",
       "        vertical-align: top;\n",
       "    }\n",
       "\n",
       "    .dataframe thead th {\n",
       "        text-align: right;\n",
       "    }\n",
       "</style>\n",
       "<table border=\"1\" class=\"dataframe\">\n",
       "  <thead>\n",
       "    <tr style=\"text-align: right;\">\n",
       "      <th></th>\n",
       "      <th>Unnamed: 0</th>\n",
       "      <th>sub_id</th>\n",
       "      <th>event_id</th>\n",
       "      <th>source</th>\n",
       "      <th>data_HR_activity_median</th>\n",
       "      <th>data_HR_activity_min</th>\n",
       "      <th>data_HR_activity_max</th>\n",
       "      <th>data_HR_activity_average</th>\n",
       "      <th>data_HR_activity_std</th>\n",
       "      <th>data_HR_activity_len</th>\n",
       "      <th>...</th>\n",
       "      <th>data_AUTOGRAPHER_RESNET_max_buckeye, horse chestnut, conker</th>\n",
       "      <th>data_AUTOGRAPHER_RESNET_max_coral fungus</th>\n",
       "      <th>data_AUTOGRAPHER_RESNET_max_agaric</th>\n",
       "      <th>data_AUTOGRAPHER_RESNET_max_gyromitra</th>\n",
       "      <th>data_AUTOGRAPHER_RESNET_max_stinkhorn, carrion fungus</th>\n",
       "      <th>data_AUTOGRAPHER_RESNET_max_earthstar</th>\n",
       "      <th>data_AUTOGRAPHER_RESNET_max_hen-of-the-woods, hen of the woods, Polyporus frondosus, Grifola frondosa</th>\n",
       "      <th>data_AUTOGRAPHER_RESNET_max_bolete</th>\n",
       "      <th>data_AUTOGRAPHER_RESNET_max_ear, spike, capitulum</th>\n",
       "      <th>data_AUTOGRAPHER_RESNET_max_toilet tissue, toilet paper, bathroom tissue</th>\n",
       "    </tr>\n",
       "  </thead>\n",
       "  <tbody>\n",
       "    <tr>\n",
       "      <th>0</th>\n",
       "      <td>0</td>\n",
       "      <td>1001</td>\n",
       "      <td>act01</td>\n",
       "      <td>trainA</td>\n",
       "      <td>84.507042</td>\n",
       "      <td>76.923077</td>\n",
       "      <td>100.000000</td>\n",
       "      <td>84.577495</td>\n",
       "      <td>3.933112</td>\n",
       "      <td>90</td>\n",
       "      <td>...</td>\n",
       "      <td>0.000728</td>\n",
       "      <td>0.000090</td>\n",
       "      <td>0.000920</td>\n",
       "      <td>0.000048</td>\n",
       "      <td>0.000100</td>\n",
       "      <td>0.000287</td>\n",
       "      <td>0.000317</td>\n",
       "      <td>0.000290</td>\n",
       "      <td>0.001594</td>\n",
       "      <td>0.001767</td>\n",
       "    </tr>\n",
       "    <tr>\n",
       "      <th>1</th>\n",
       "      <td>1</td>\n",
       "      <td>1001</td>\n",
       "      <td>act02</td>\n",
       "      <td>trainA</td>\n",
       "      <td>83.333333</td>\n",
       "      <td>71.428571</td>\n",
       "      <td>100.000000</td>\n",
       "      <td>82.631420</td>\n",
       "      <td>5.642256</td>\n",
       "      <td>89</td>\n",
       "      <td>...</td>\n",
       "      <td>0.001809</td>\n",
       "      <td>0.000228</td>\n",
       "      <td>0.002908</td>\n",
       "      <td>0.000167</td>\n",
       "      <td>0.000224</td>\n",
       "      <td>0.000654</td>\n",
       "      <td>0.000971</td>\n",
       "      <td>0.000937</td>\n",
       "      <td>0.007302</td>\n",
       "      <td>0.013306</td>\n",
       "    </tr>\n",
       "    <tr>\n",
       "      <th>2</th>\n",
       "      <td>2</td>\n",
       "      <td>1001</td>\n",
       "      <td>act03</td>\n",
       "      <td>trainA</td>\n",
       "      <td>83.920188</td>\n",
       "      <td>76.923077</td>\n",
       "      <td>90.909091</td>\n",
       "      <td>84.207147</td>\n",
       "      <td>2.827778</td>\n",
       "      <td>90</td>\n",
       "      <td>...</td>\n",
       "      <td>0.000996</td>\n",
       "      <td>0.000154</td>\n",
       "      <td>0.002684</td>\n",
       "      <td>0.000104</td>\n",
       "      <td>0.000201</td>\n",
       "      <td>0.000685</td>\n",
       "      <td>0.000620</td>\n",
       "      <td>0.000566</td>\n",
       "      <td>0.006093</td>\n",
       "      <td>0.005520</td>\n",
       "    </tr>\n",
       "  </tbody>\n",
       "</table>\n",
       "<p>3 rows × 3112 columns</p>\n",
       "</div>"
      ],
      "text/plain": [
       "   Unnamed: 0  sub_id event_id  source  data_HR_activity_median  \\\n",
       "0           0    1001    act01  trainA                84.507042   \n",
       "1           1    1001    act02  trainA                83.333333   \n",
       "2           2    1001    act03  trainA                83.920188   \n",
       "\n",
       "   data_HR_activity_min  data_HR_activity_max  data_HR_activity_average  \\\n",
       "0             76.923077            100.000000                 84.577495   \n",
       "1             71.428571            100.000000                 82.631420   \n",
       "2             76.923077             90.909091                 84.207147   \n",
       "\n",
       "   data_HR_activity_std  data_HR_activity_len  ...  \\\n",
       "0              3.933112                    90  ...   \n",
       "1              5.642256                    89  ...   \n",
       "2              2.827778                    90  ...   \n",
       "\n",
       "   data_AUTOGRAPHER_RESNET_max_buckeye, horse chestnut, conker  \\\n",
       "0                                           0.000728             \n",
       "1                                           0.001809             \n",
       "2                                           0.000996             \n",
       "\n",
       "   data_AUTOGRAPHER_RESNET_max_coral fungus  \\\n",
       "0                                  0.000090   \n",
       "1                                  0.000228   \n",
       "2                                  0.000154   \n",
       "\n",
       "   data_AUTOGRAPHER_RESNET_max_agaric  data_AUTOGRAPHER_RESNET_max_gyromitra  \\\n",
       "0                            0.000920                               0.000048   \n",
       "1                            0.002908                               0.000167   \n",
       "2                            0.002684                               0.000104   \n",
       "\n",
       "   data_AUTOGRAPHER_RESNET_max_stinkhorn, carrion fungus  \\\n",
       "0                                           0.000100       \n",
       "1                                           0.000224       \n",
       "2                                           0.000201       \n",
       "\n",
       "   data_AUTOGRAPHER_RESNET_max_earthstar  \\\n",
       "0                               0.000287   \n",
       "1                               0.000654   \n",
       "2                               0.000685   \n",
       "\n",
       "   data_AUTOGRAPHER_RESNET_max_hen-of-the-woods, hen of the woods, Polyporus frondosus, Grifola frondosa  \\\n",
       "0                                           0.000317                                                       \n",
       "1                                           0.000971                                                       \n",
       "2                                           0.000620                                                       \n",
       "\n",
       "   data_AUTOGRAPHER_RESNET_max_bolete  \\\n",
       "0                            0.000290   \n",
       "1                            0.000937   \n",
       "2                            0.000566   \n",
       "\n",
       "   data_AUTOGRAPHER_RESNET_max_ear, spike, capitulum  \\\n",
       "0                                           0.001594   \n",
       "1                                           0.007302   \n",
       "2                                           0.006093   \n",
       "\n",
       "   data_AUTOGRAPHER_RESNET_max_toilet tissue, toilet paper, bathroom tissue  \n",
       "0                                           0.001767                         \n",
       "1                                           0.013306                         \n",
       "2                                           0.005520                         \n",
       "\n",
       "[3 rows x 3112 columns]"
      ]
     },
     "execution_count": 8,
     "metadata": {},
     "output_type": "execute_result"
    }
   ],
   "source": [
    "data.head(3)"
   ]
  },
  {
   "cell_type": "code",
   "execution_count": 5,
   "metadata": {},
   "outputs": [
    {
     "data": {
      "text/plain": [
       "140"
      ]
     },
     "execution_count": 5,
     "metadata": {},
     "output_type": "execute_result"
    }
   ],
   "source": [
    "len(data)"
   ]
  },
  {
   "cell_type": "code",
   "execution_count": 6,
   "metadata": {},
   "outputs": [
    {
     "data": {
      "text/plain": [
       "['1001_act01', '1001_act02', '1001_act03', '1001_act04', '1001_act05']"
      ]
     },
     "execution_count": 6,
     "metadata": {},
     "output_type": "execute_result"
    }
   ],
   "source": [
    "sub_id = list(data['sub_id'])\n",
    "event_id = list(data['event_id'])\n",
    "task_id = [f\"{x}_{y}\" for x, y in zip(sub_id, event_id)]\n",
    "task_id = task_id[0:10] # take the small\n",
    "task_id[0:5]"
   ]
  },
  {
   "cell_type": "code",
   "execution_count": 9,
   "metadata": {},
   "outputs": [
    {
     "name": "stderr",
     "output_type": "stream",
     "text": [
      "10it [00:06,  1.57it/s]\n"
     ]
    }
   ],
   "source": [
    "list_probs = np.zeros((len(task_id), 20))\n",
    "# start loop\n",
    "for idx_task, task in tqdm(enumerate(task_id)):\n",
    "    if dataset == 'trainA' or dataset == 'trainB':\n",
    "        task = task.split('_')\n",
    "        task = f\"{task[0]}_{dataset}_{task[1]}\"\n",
    "    task_imgs = [x for x in all_img_files if task in x]\n",
    "    task_probs = np.zeros((len(task_imgs), 20))\n",
    "    for idx, img in enumerate(task_imgs):\n",
    "        img_path = f\"{IMG_DIR}/{img}\"\n",
    "        pred_lbl, probs_lbl = evaluator.test_image(img_path, props=True) # remember act = label+1\n",
    "        task_probs[idx] = probs_lbl\n",
    "    task_mean_probs = np.mean(task_probs, axis=0)\n",
    "    list_probs[idx_task] = task_mean_probs\n",
    "# end loop"
   ]
  },
  {
   "cell_type": "markdown",
   "metadata": {},
   "source": [
    "## GENERATE SUBMISSION FILE"
   ]
  },
  {
   "cell_type": "code",
   "execution_count": 3,
   "metadata": {},
   "outputs": [],
   "source": [
    "import joblib\n",
    "import os\n",
    "import numpy as np\n",
    "import pandas as pd\n",
    "\n",
    "RUN = 'test' # trainA, trainB, test\n",
    "PANDAS_DIR = '/mnt/sda/hong01-data/MART_DATA/OUTPUT_MERGED/PANDAS'\n",
    "data = pd.read_csv(f\"{PANDAS_DIR}/{RUN}.csv\")\n",
    "sub_id = list(data['sub_id'])\n",
    "event_id = list(data['event_id'])\n",
    "task_id = [f\"{x}_{y}\" for x, y in zip(sub_id, event_id)]\n",
    "task_id_np = np.asarray(task_id)\n",
    "probs = joblib.load(f'joblib_files/act_probs_{RUN}_RUN_0_Unfreeze.joblib')"
   ]
  },
  {
   "cell_type": "code",
   "execution_count": 6,
   "metadata": {},
   "outputs": [
    {
     "data": {
      "text/plain": [
       "(140, 20)"
      ]
     },
     "execution_count": 6,
     "metadata": {},
     "output_type": "execute_result"
    }
   ],
   "source": [
    "probs.shape"
   ]
  },
  {
   "cell_type": "code",
   "execution_count": 6,
   "metadata": {},
   "outputs": [
    {
     "name": "stdout",
     "output_type": "stream",
     "text": [
      "DONE\n"
     ]
    }
   ],
   "source": [
    "submission = \"group_id: group50 ouroboros\\n\"\n",
    "\n",
    "for act in range(20):\n",
    "    probs_act = probs[:, act]\n",
    "    highest_subj = np.zeros(7)\n",
    "    for i in range(7):\n",
    "        subj_act_probs = probs_act[(i*20):((i+1)*20)]\n",
    "        highest_index = np.argsort(subj_act_probs)[::-1][0]\n",
    "        highest_index += (i*20)\n",
    "        highest_subj[i] = highest_index\n",
    "    highest_subj = highest_subj.astype(int)\n",
    "    highest_subj_list = list(highest_subj)\n",
    "    remain_subj_act = [x for x in range(len(task_id)) if x not in highest_subj_list]\n",
    "    remain_subj_act = np.asarray(remain_subj_act)\n",
    "    highest_subj_score = probs_act[highest_subj]\n",
    "    remain_subj_score = probs_act[remain_subj_act]\n",
    "    \n",
    "    h_index = np.argsort(highest_subj_score)[::-1]\n",
    "    h_map_index = highest_subj[h_index]\n",
    "    r_index = np.argsort(remain_subj_score)[::-1]\n",
    "    r_map_index = remain_subj_act[r_index]\n",
    "    final_index = np.concatenate((h_map_index, r_map_index))\n",
    "    task_ranking = task_id_np[final_index]\n",
    "    task_score = probs_act[final_index]\n",
    "    \n",
    "    task_ranking_list = list(task_ranking)\n",
    "    if act < 9:\n",
    "        act_str = f\"act0{act+1}\"\n",
    "    else:\n",
    "        act_str = f\"act{act+1}\"\n",
    "    for task in task_ranking_list:\n",
    "        submission += f\"{act_str} {task}\\n\"\n",
    "\n",
    "submission_write = open(f\"Submission/submission_{RUN}.txt\", \"w\")\n",
    "submission_write.write(submission)\n",
    "submission_write.close()\n",
    "\n",
    "print('DONE')"
   ]
  },
  {
   "cell_type": "code",
   "execution_count": null,
   "metadata": {},
   "outputs": [],
   "source": []
  }
 ],
 "metadata": {
  "kernelspec": {
   "display_name": "Python 3",
   "language": "python",
   "name": "python3"
  },
  "language_info": {
   "codemirror_mode": {
    "name": "ipython",
    "version": 3
   },
   "file_extension": ".py",
   "mimetype": "text/x-python",
   "name": "python",
   "nbconvert_exporter": "python",
   "pygments_lexer": "ipython3",
   "version": "3.7.7"
  }
 },
 "nbformat": 4,
 "nbformat_minor": 4
}
